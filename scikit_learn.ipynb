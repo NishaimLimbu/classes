{
  "nbformat": 4,
  "nbformat_minor": 0,
  "metadata": {
    "colab": {
      "provenance": [],
      "authorship_tag": "ABX9TyOmnIhnqU+WunOzbdFnipuc",
      "include_colab_link": true
    },
    "kernelspec": {
      "name": "python3",
      "display_name": "Python 3"
    },
    "language_info": {
      "name": "python"
    }
  },
  "cells": [
    {
      "cell_type": "markdown",
      "metadata": {
        "id": "view-in-github",
        "colab_type": "text"
      },
      "source": [
        "<a href=\"https://colab.research.google.com/github/NishaimLimbu/classes/blob/main/scikit_learn.ipynb\" target=\"_parent\"><img src=\"https://colab.research.google.com/assets/colab-badge.svg\" alt=\"Open In Colab\"/></a>"
      ]
    },
    {
      "cell_type": "code",
      "execution_count": 11,
      "metadata": {
        "id": "bNiFelV3IMo7"
      },
      "outputs": [],
      "source": [
        "import pandas as pd"
      ]
    },
    {
      "cell_type": "code",
      "source": [
        "from sklearn.datasets import load_iris\n",
        "iris=load_iris()\n",
        "# print (iris) ##this is done to see all the list contain in iris dataset.\n",
        "df = pd.DataFrame(iris.data, columns=iris.feature_names)\n",
        "df[\"target\"]=iris.target\n",
        "df.head()\n",
        "# print (df[:5]) ##to watch the data from iris dataset.\n",
        "x=iris.data\n",
        "y=iris.target\n",
        "from sklearn.preprocessing import StandardScaler\n",
        "scaler=StandardScaler()\n",
        "x_scaled=scaler.fit_transform(x)\n",
        "# print (x_scaled[:5]) ##to watch the datasdt transformation result.\n",
        "from sklearn.model_selection import train_test_split\n",
        "x_train,x_test, y_train, y_test = train_test_split(x_scaled, y,test_size=0.2,random_state=1)\n",
        "from sklearn.linear_model import LogisticRegression\n",
        "model =LogisticRegression(max_iter=2000)\n",
        "model.fit(x_train,y_train)\n",
        "from sklearn.metrics import accuracy_score\n",
        "y_pred = model.predict(x_test)\n",
        "accuracy = accuracy_score(y_test,y_pred)\n",
        "print (accuracy)\n",
        "print (f\"accuracy in percentage{accuracy*100:.2f}%\")"
      ],
      "metadata": {
        "colab": {
          "base_uri": "https://localhost:8080/"
        },
        "id": "gdWGj51qOqEV",
        "outputId": "9e77005e-ad5b-4c0a-d1f6-d414d0e519de"
      },
      "execution_count": 26,
      "outputs": [
        {
          "output_type": "stream",
          "name": "stdout",
          "text": [
            "0.9666666666666667\n",
            "accuracy in percentage96.67%\n"
          ]
        }
      ]
    },
    {
      "cell_type": "code",
      "source": [
        "#user input for peridiction\n",
        "sep_len = float(input(\"enter the length of sepal\"))\n",
        "sep_wid = float(input(\"enter the width of sepal\"))\n",
        "pet_len = float(input(\"enter the length of petal\"))\n",
        "pet_wed = float(input(\"enter the width of petal\"))\n",
        "\n",
        "input_data=[[sep_len,sep_wid,pet_len,pet_wed]]\n",
        "pridict=model.predict(input_data)\n",
        "print (pridict)\n",
        "print (\"Your flower is:\",iris.target_names[pridict[0]])"
      ],
      "metadata": {
        "colab": {
          "base_uri": "https://localhost:8080/"
        },
        "id": "Gg7nTXMfaYVH",
        "outputId": "2ab476bd-6021-4ab4-ab9f-e4df51be4eec"
      },
      "execution_count": 33,
      "outputs": [
        {
          "output_type": "stream",
          "name": "stdout",
          "text": [
            "enter the length of sepal5.1\n",
            "enter the width of sepal2.6\n",
            "enter the length of petal5.4\n",
            "enter the width of petal1.2\n",
            "[2]\n",
            "Your flower is: virginica\n"
          ]
        }
      ]
    }
  ]
}