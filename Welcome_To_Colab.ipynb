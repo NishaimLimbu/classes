{
  "cells": [
    {
      "cell_type": "markdown",
      "metadata": {
        "id": "view-in-github",
        "colab_type": "text"
      },
      "source": [
        "<a href=\"https://colab.research.google.com/github/NishaimLimbu/classes/blob/main/Welcome_To_Colab.ipynb\" target=\"_parent\"><img src=\"https://colab.research.google.com/assets/colab-badge.svg\" alt=\"Open In Colab\"/></a>"
      ]
    },
    {
      "cell_type": "code",
      "source": [
        "import pandas as pd\n",
        "data = {\n",
        "  'Name' : [\"Alice\", \"Bob\", \"Charlie\"],\n",
        " 'Age' : [25, 30, 35],\n",
        " 'City' : [\"New York\", \"Los Angeles\", \"Chicago\"]\n",
        "}\n",
        "df1=pd.DataFrame(data)\n",
        "print (\"pandas DataFrame: \")\n",
        "print (df1)"
      ],
      "metadata": {
        "id": "Z51Hh4-kn-15",
        "outputId": "a14e82a0-a04f-4cb3-b174-6b798711b15d",
        "colab": {
          "base_uri": "https://localhost:8080/"
        }
      },
      "execution_count": 1,
      "outputs": [
        {
          "output_type": "stream",
          "name": "stdout",
          "text": [
            "pandas DataFrame: \n",
            "      Name  Age         City\n",
            "0    Alice   25     New York\n",
            "1      Bob   30  Los Angeles\n",
            "2  Charlie   35      Chicago\n"
          ]
        }
      ]
    },
    {
      "cell_type": "code",
      "source": [
        "data = [10,20,30,40,50]\n",
        "series=pd.Series(data)\n",
        "print (\"pandas Series: \")\n",
        "print (series)"
      ],
      "metadata": {
        "id": "yN0YLF1YoIOR",
        "outputId": "472e2242-9b5e-44bc-9a97-875e72bef1ef",
        "colab": {
          "base_uri": "https://localhost:8080/"
        }
      },
      "execution_count": 2,
      "outputs": [
        {
          "output_type": "stream",
          "name": "stdout",
          "text": [
            "pandas Series: \n",
            "0    10\n",
            "1    20\n",
            "2    30\n",
            "3    40\n",
            "4    50\n",
            "dtype: int64\n"
          ]
        }
      ]
    },
    {
      "cell_type": "code",
      "source": [
        "dataa = {\n",
        "  'name' : [\"Alice\", \"Bob\", \"Charlie\"],\n",
        "  'marks' : [90, 85, 95]\n",
        "}\n",
        "df2 = pd.DataFrame(dataa)\n",
        "print (\"pandas DataFrame: \")\n",
        "print (df2)"
      ],
      "metadata": {
        "id": "zdRMapNvoNa5",
        "outputId": "8a143cc4-035c-4c6e-81e0-e6218d3f7cd0",
        "colab": {
          "base_uri": "https://localhost:8080/"
        }
      },
      "execution_count": 3,
      "outputs": [
        {
          "output_type": "stream",
          "name": "stdout",
          "text": [
            "pandas DataFrame: \n",
            "      name  marks\n",
            "0    Alice     90\n",
            "1      Bob     85\n",
            "2  Charlie     95\n"
          ]
        }
      ]
    },
    {
      "cell_type": "markdown",
      "source": [
        ".dropna() is used to remove all the data which have null values in it.\n",
        ".fillna() is used to fill up allt he data which have null values with given value inside ()\n",
        ".drop_duplicate() is used to remove all the duplicate data in the table data.\n"
      ],
      "metadata": {
        "id": "84VmJ9vxqdCD"
      }
    },
    {
      "cell_type": "code",
      "source": [
        "data={\n",
        "  'name':['Alice','Bob', None,'Alice'],\n",
        "  'Age' : [25, 30, 35,25],\n",
        "  'marks' : [90, None, 95,90],\n",
        "  'phone' : [989789944,98999545,None,989789944]\n",
        "}\n",
        "data1=pd.DataFrame(data)\n",
        "print (data1,\"\\n\")\n",
        "clean_df=data1.dropna()\n",
        "print (clean_df,'\\n')\n",
        "filled_df=data1.fillna(0)\n",
        "print (filled_df,\"\\n\")\n",
        "remove_dup = data1.drop_duplicates()\n",
        "print (remove_dup)"
      ],
      "metadata": {
        "id": "xGr1pEjHo6-5",
        "outputId": "839ee615-6499-4eef-d2e8-6f25e945c275",
        "colab": {
          "base_uri": "https://localhost:8080/"
        }
      },
      "execution_count": 13,
      "outputs": [
        {
          "output_type": "stream",
          "name": "stdout",
          "text": [
            "    name  Age  marks        phone\n",
            "0  Alice   25   90.0  989789944.0\n",
            "1    Bob   30    NaN   98999545.0\n",
            "2   None   35   95.0          NaN\n",
            "3  Alice   25   90.0  989789944.0 \n",
            "\n",
            "    name  Age  marks        phone\n",
            "0  Alice   25   90.0  989789944.0\n",
            "3  Alice   25   90.0  989789944.0 \n",
            "\n",
            "    name  Age  marks        phone\n",
            "0  Alice   25   90.0  989789944.0\n",
            "1    Bob   30    0.0   98999545.0\n",
            "2      0   35   95.0          0.0\n",
            "3  Alice   25   90.0  989789944.0 \n",
            "\n",
            "    name  Age  marks        phone\n",
            "0  Alice   25   90.0  989789944.0\n",
            "1    Bob   30    NaN   98999545.0\n",
            "2   None   35   95.0          NaN\n"
          ]
        }
      ]
    },
    {
      "cell_type": "code",
      "source": [
        "dataa = {\n",
        "  'name' : [\"Alice\", \"Bob\", \"Charlie\"],\n",
        "  'marks' : [90, 85, 95]\n",
        "}\n",
        "dif_name=pd.DataFrame(dataa)\n",
        "print (dif_name,\"\\n\")\n",
        "dif_name.rename(columns = {'name':'Studnet_Name'}, inplace=True)\n",
        "print (dif_name)"
      ],
      "metadata": {
        "id": "xgorRqYbtdfi",
        "outputId": "e9e45c29-9b41-4871-e523-270e094d304c",
        "colab": {
          "base_uri": "https://localhost:8080/"
        }
      },
      "execution_count": 38,
      "outputs": [
        {
          "output_type": "stream",
          "name": "stdout",
          "text": [
            "      name  marks\n",
            "0    Alice     90\n",
            "1      Bob     85\n",
            "2  Charlie     95 \n",
            "\n",
            "  Studnet_Name  marks\n",
            "0        Alice     90\n",
            "1          Bob     85\n",
            "2      Charlie     95\n"
          ]
        }
      ]
    },
    {
      "cell_type": "code",
      "source": [
        "data = {\n",
        "  'name':['raju','ram','hari','seri','alice','anup'],\n",
        "  'age':[45,19,41,32,65,12],\n",
        "  'address':['NY','AF','WDC','NY','AL',\"AF\"]\n",
        "}\n",
        "df=pd.DataFrame(data)\n",
        "print(df,\"\\n\")\n",
        "adults= df (df('age'>18))\n",
        "print (\"adult\")\n",
        "print (adults)"
      ],
      "metadata": {
        "id": "oSpWb_HIwN37",
        "outputId": "3b6a33ba-5017-4ce8-9efa-48a18a06f7a8",
        "colab": {
          "base_uri": "https://localhost:8080/",
          "height": 349
        }
      },
      "execution_count": 47,
      "outputs": [
        {
          "output_type": "stream",
          "name": "stdout",
          "text": [
            "    name  age address\n",
            "0   raju   45      NY\n",
            "1    ram   19      AF\n",
            "2   hari   41     WDC\n",
            "3   seri   32      NY\n",
            "4  alice   65      AL\n",
            "5   anup   12      AF \n",
            "\n"
          ]
        },
        {
          "output_type": "error",
          "ename": "TypeError",
          "evalue": "'>' not supported between instances of 'str' and 'int'",
          "traceback": [
            "\u001b[0;31m---------------------------------------------------------------------------\u001b[0m",
            "\u001b[0;31mTypeError\u001b[0m                                 Traceback (most recent call last)",
            "\u001b[0;32m<ipython-input-47-848595305>\u001b[0m in \u001b[0;36m<cell line: 0>\u001b[0;34m()\u001b[0m\n\u001b[1;32m      6\u001b[0m \u001b[0mdf\u001b[0m\u001b[0;34m=\u001b[0m\u001b[0mpd\u001b[0m\u001b[0;34m.\u001b[0m\u001b[0mDataFrame\u001b[0m\u001b[0;34m(\u001b[0m\u001b[0mdata\u001b[0m\u001b[0;34m)\u001b[0m\u001b[0;34m\u001b[0m\u001b[0;34m\u001b[0m\u001b[0m\n\u001b[1;32m      7\u001b[0m \u001b[0mprint\u001b[0m\u001b[0;34m(\u001b[0m\u001b[0mdf\u001b[0m\u001b[0;34m,\u001b[0m\u001b[0;34m\"\\n\"\u001b[0m\u001b[0;34m)\u001b[0m\u001b[0;34m\u001b[0m\u001b[0;34m\u001b[0m\u001b[0m\n\u001b[0;32m----> 8\u001b[0;31m \u001b[0madults\u001b[0m\u001b[0;34m=\u001b[0m \u001b[0mdf\u001b[0m \u001b[0;34m(\u001b[0m\u001b[0mdf\u001b[0m\u001b[0;34m(\u001b[0m\u001b[0;34m'age'\u001b[0m\u001b[0;34m>\u001b[0m\u001b[0;36m18\u001b[0m\u001b[0;34m)\u001b[0m\u001b[0;34m)\u001b[0m\u001b[0;34m\u001b[0m\u001b[0;34m\u001b[0m\u001b[0m\n\u001b[0m\u001b[1;32m      9\u001b[0m \u001b[0mprint\u001b[0m \u001b[0;34m(\u001b[0m\u001b[0;34m\"adult\"\u001b[0m\u001b[0;34m)\u001b[0m\u001b[0;34m\u001b[0m\u001b[0;34m\u001b[0m\u001b[0m\n\u001b[1;32m     10\u001b[0m \u001b[0mprint\u001b[0m \u001b[0;34m(\u001b[0m\u001b[0madults\u001b[0m\u001b[0;34m)\u001b[0m\u001b[0;34m\u001b[0m\u001b[0;34m\u001b[0m\u001b[0m\n",
            "\u001b[0;31mTypeError\u001b[0m: '>' not supported between instances of 'str' and 'int'"
          ]
        }
      ]
    },
    {
      "cell_type": "code",
      "source": [],
      "metadata": {
        "id": "EZQqjwcgy4RJ"
      },
      "execution_count": null,
      "outputs": []
    }
  ],
  "metadata": {
    "colab": {
      "name": "Welcome To Colab",
      "provenance": [],
      "include_colab_link": true
    },
    "kernelspec": {
      "display_name": "Python 3",
      "name": "python3"
    }
  },
  "nbformat": 4,
  "nbformat_minor": 0
}