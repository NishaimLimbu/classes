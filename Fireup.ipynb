{
 "cells": [
  {
   "cell_type": "code",
   "execution_count": 1,
   "id": "2fcc98ee",
   "metadata": {},
   "outputs": [],
   "source": [
    "import pandas as pd"
   ]
  },
  {
   "cell_type": "code",
   "execution_count": null,
   "id": "278d9781",
   "metadata": {},
   "outputs": [
    {
     "name": "stdout",
     "output_type": "stream",
     "text": [
      "Data: [ 1  4  2  5  1  4  5  1  4  2  6  3  5  6  2  4  1  2  5  3  4 19  1  2\n",
      "  5  6  3  4  4]\n",
      "Z-scores: (array([-0.89667636,  0.02109827, -0.59075148,  0.32702314, -0.89667636,\n",
      "        0.02109827,  0.32702314, -0.89667636,  0.02109827, -0.59075148,\n",
      "        0.63294802, -0.28482661,  0.32702314,  0.63294802, -0.59075148,\n",
      "        0.02109827, -0.89667636, -0.59075148,  0.32702314, -0.28482661,\n",
      "        0.02109827,  4.60997139, -0.89667636, -0.59075148,  0.32702314,\n",
      "        0.63294802, -0.28482661,  0.02109827,  0.02109827]), 2)\n",
      "\n",
      "outliers (|Z| >= 3) [19]\n"
     ]
    }
   ],
   "source": [
    "import numpy as np\n",
    "\n",
    "data = np.array([1,4,2,5,1,4,5,1,4,2,6,3,5,6,2,4,1,2,5,3,4,19,1,2,5,6,3,4,4])\n",
    "std=data.std()\n",
    "mean=data.mean()\n",
    "\n",
    "z_scores=(data-mean)/std\n",
    "\n",
    "print (f\"Data: {data}\")\n",
    "print (f\"Z-scores: {z_scores,2}\")\n",
    "\n",
    "outliers =data[np.abs(z_scores)>=2.5]\n",
    "print ('\\noutliers (|Z| >= 3)', outliers)"
   ]
  },
  {
   "cell_type": "code",
   "execution_count": 12,
   "id": "02a3bad7",
   "metadata": {},
   "outputs": [
    {
     "name": "stdout",
     "output_type": "stream",
     "text": [
      "Q1 = 2.0, Q3 = 5.0, IQR = 3.0\n",
      "Lower bound = -2.5, Upper bound = 9.5\n",
      "Outliers by IQR method: [-15  15  54]\n"
     ]
    }
   ],
   "source": [
    "data=np.array([1,5,1,2,4,6,3,2,-15,5,4,6,2,3,4,1,2,5,6,4,4,15,1,2,4,54,4,8])\n",
    "\n",
    "Q1 =np.percentile(data, 25) \n",
    "Q3 = np.percentile(data, 75)\n",
    "IQR = Q3 -Q1\n",
    "\n",
    "lower = Q1 -1.5 * IQR\n",
    "upper = Q3 +1.5 * IQR\n",
    "\n",
    "outliers = data[(data <lower) | (data> upper)]\n",
    "\n",
    "print (f\"Q1 = {Q1}, Q3 = {Q3}, IQR = {IQR}\")\n",
    "print (f\"Lower bound = {lower}, Upper bound = {upper}\")\n",
    "print (\"Outliers by IQR method:\", outliers)"
   ]
  },
  {
   "cell_type": "code",
   "execution_count": null,
   "id": "d2b6f58b",
   "metadata": {},
   "outputs": [],
   "source": []
  }
 ],
 "metadata": {
  "kernelspec": {
   "display_name": "Python 3",
   "language": "python",
   "name": "python3"
  },
  "language_info": {
   "codemirror_mode": {
    "name": "ipython",
    "version": 3
   },
   "file_extension": ".py",
   "mimetype": "text/x-python",
   "name": "python",
   "nbconvert_exporter": "python",
   "pygments_lexer": "ipython3",
   "version": "3.13.2"
  }
 },
 "nbformat": 4,
 "nbformat_minor": 5
}
